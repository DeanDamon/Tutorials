{
 "cells": [
  {
   "cell_type": "code",
   "execution_count": 1,
   "id": "e64ae5cf",
   "metadata": {},
   "outputs": [
    {
     "name": "stdout",
     "output_type": "stream",
     "text": [
      "3.1413972\n"
     ]
    }
   ],
   "source": [
    "import math\n",
    "import random\n",
    "count1=0\n",
    "k=10**7\n",
    "for i in range(k):\n",
    "    x=random.random()\n",
    "    y=random.random()\n",
    "    a= x**2 + y**2\n",
    "    if a < 1:\n",
    "        count1 +=1       \n",
    "pi=4*count1/k\n",
    "\n",
    "print(pi)"
   ]
  },
  {
   "cell_type": "code",
   "execution_count": null,
   "id": "58d3d4a8",
   "metadata": {},
   "outputs": [],
   "source": []
  }
 ],
 "metadata": {
  "kernelspec": {
   "display_name": "Python 3 (ipykernel)",
   "language": "python",
   "name": "python3"
  },
  "language_info": {
   "codemirror_mode": {
    "name": "ipython",
    "version": 3
   },
   "file_extension": ".py",
   "mimetype": "text/x-python",
   "name": "python",
   "nbconvert_exporter": "python",
   "pygments_lexer": "ipython3",
   "version": "3.8.10"
  }
 },
 "nbformat": 4,
 "nbformat_minor": 5
}
