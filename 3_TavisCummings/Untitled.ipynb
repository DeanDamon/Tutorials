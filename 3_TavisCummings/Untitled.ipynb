{
 "cells": [
  {
   "cell_type": "code",
   "execution_count": 5,
   "id": "7b1c91c0",
   "metadata": {},
   "outputs": [],
   "source": [
    "using Makie\n",
    "using WGLMakie\n",
    "using LinearAlgebra"
   ]
  },
  {
   "cell_type": "code",
   "execution_count": 6,
   "id": "4f889626",
   "metadata": {},
   "outputs": [
    {
     "data": {
      "text/plain": [
       "get_H (generic function with 1 method)"
      ]
     },
     "execution_count": 6,
     "metadata": {},
     "output_type": "execute_result"
    }
   ],
   "source": [
    "function get_H(Nm)\n",
    "    ωM = 1000\n",
    "    ωc = 1000\n",
    "    LS = 1e-12 / 5.29177210903e-11 # meters -> bohr\n",
    "    ϵ = 1/(4π) # Permitivity in a.u\n",
    "    \n",
    "    # hbar is just a conversion factor here (cm-1 -> hartree)\n",
    "    ħ = 1/219474.6\n",
    "    \n",
    "    μ = 10 * ħ\n",
    "    \n",
    "    # Initiate H\n",
    "    H = zeros(ComplexF64, Nm+1, Nm+1)\n",
    "    \n",
    "    # Get photonic diagonal terms\n",
    "    for i = 1:Nm\n",
    "        # Each i represents a state where molecule i is excited, thus there are 0 photons left\n",
    "        H[i+1,i+1] = ħ*ωM\n",
    "    end\n",
    "    \n",
    "    # State with all molecules in the ground state and a photon\n",
    "    H[1, 1] = ħ*ωc\n",
    "    \n",
    "    # Get off diagonal terms\n",
    "    for i = 1:Nm\n",
    "        \n",
    "        H[1, i+1] =  im * √(ħ*ωc/ 2*ϵ*LS)*μ\n",
    "        H[i+1, 1] = -im * √(ħ*ωc/ 2*ϵ*LS)*μ\n",
    "        \n",
    "    end\n",
    "    \n",
    "    return H\n",
    "    \n",
    "end"
   ]
  },
  {
   "cell_type": "code",
   "execution_count": 7,
   "id": "08ab222d",
   "metadata": {},
   "outputs": [
    {
     "data": {
      "text/plain": [
       "splitting_plot (generic function with 2 methods)"
      ]
     },
     "execution_count": 7,
     "metadata": {},
     "output_type": "execute_result"
    }
   ],
   "source": [
    "function splitting_plot(Nmax, step=1)\n",
    "    ωM = 1000\n",
    "    ωc = 1000\n",
    "    LS = 1e-12 / 5.29177210903e-11 # meters -> bohr\n",
    "    ϵ = 1/(4π) # Permitivity in a.u\n",
    "    \n",
    "    # hbar is just a conversion factor here (cm-1 -> hartree)\n",
    "    ħ = 1/219474.6\n",
    "    \n",
    "    μ = 100 * ħ\n",
    "    \n",
    "    Ω = √(ħ*ωc/ 2*ϵ*LS)* (μ / ħ)\n",
    "    \n",
    "    Nvals = collect(1:step:Nmax)\n",
    "    Δvals = zeros(length(Nvals))\n",
    "    \n",
    "    for i = 1:length(Nvals)\n",
    "        N = Nvals[i]\n",
    "        H = get_H(N)\n",
    "        scale = H[1,1]\n",
    "        H = H ./ scale # Get a matrix with more stable numbers\n",
    "        e,c = eigen(H)\n",
    "        Δvals[i] = (e[end] - e[1])* 219474.6 * scale\n",
    "    end\n",
    "    fig = Figure()\n",
    "    ax = Axis(fig[1,1])\n",
    "    scatter!(Nvals, Δvals)\n",
    "    lines!(1:Nmax, [2*Ω*√n for n = 1:Nmax], color=:red)\n",
    "    display(fig)\n",
    "end"
   ]
  },
  {
   "cell_type": "code",
   "execution_count": 8,
   "id": "e7496068",
   "metadata": {},
   "outputs": [
    {
     "data": {},
     "metadata": {},
     "output_type": "display_data"
    }
   ],
   "source": [
    "splitting_plot(500, 20)"
   ]
  },
  {
   "cell_type": "code",
   "execution_count": 15,
   "id": "534d206c",
   "metadata": {},
   "outputs": [
    {
     "data": {
      "text/plain": [
       "11-element Vector{ComplexF64}:\n",
       " 0.0 - 0.7071067811855126im\n",
       " 0.0 + 0.0im\n",
       " 0.0 + 2.7130311885947833e-12im\n",
       " 0.0 - 3.0735154005201437e-12im\n",
       " 0.0 + 0.0im\n",
       " 0.0 + 0.0im\n",
       " 0.0 + 0.0im\n",
       " 0.0 + 1.1287082379851654e-12im\n",
       " 0.0 + 0.0im\n",
       " 0.0 - 2.1827852025868566e-12im\n",
       " 0.0 - 0.7071067811875825im"
      ]
     },
     "execution_count": 15,
     "metadata": {},
     "output_type": "execute_result"
    }
   ],
   "source": [
    "H = get_H(10)\n",
    "e,C = eigen(H)\n",
    "C[1,:]"
   ]
  },
  {
   "cell_type": "code",
   "execution_count": 100,
   "id": "cabec772",
   "metadata": {},
   "outputs": [
    {
     "data": {
      "text/plain": [
       "4-element Vector{ComplexF64}:\n",
       "  0.004554875194928473 + 0.0im\n",
       " 0.0045563359040180496 + 0.0im\n",
       " 0.0045563359040180496 + 0.0im\n",
       " 0.0045577966131076265 + 0.0im"
      ]
     },
     "execution_count": 100,
     "metadata": {},
     "output_type": "execute_result"
    }
   ],
   "source": [
    "adjoint(C)*H*C |> diag"
   ]
  },
  {
   "cell_type": "code",
   "execution_count": 96,
   "id": "1b923b7c",
   "metadata": {},
   "outputs": [
    {
     "data": {
      "text/plain": [
       "1.0 + 0.0im"
      ]
     },
     "execution_count": 96,
     "metadata": {},
     "output_type": "execute_result"
    }
   ],
   "source": [
    "g = adjoint(C)[:,1]"
   ]
  },
  {
   "cell_type": "code",
   "execution_count": 95,
   "id": "fb61cedb",
   "metadata": {},
   "outputs": [
    {
     "data": {
      "text/plain": [
       "0.3333333333333333"
      ]
     },
     "execution_count": 95,
     "metadata": {},
     "output_type": "execute_result"
    }
   ],
   "source": [
    "abs(dot(C[:,1], g))^2"
   ]
  },
  {
   "cell_type": "code",
   "execution_count": 9,
   "id": "45da306d",
   "metadata": {},
   "outputs": [
    {
     "data": {
      "text/plain": [
       "propagate (generic function with 1 method)"
      ]
     },
     "execution_count": 9,
     "metadata": {},
     "output_type": "execute_result"
    }
   ],
   "source": [
    "function propagate(state, evals, tf, tstep)\n",
    "    tvals = 0:tstep:tf\n",
    "    gvals = zeros(length(tvals))\n",
    "    for i = 1:length(tvals)\n",
    "        t = tvals[i]\n",
    "        prop = diagm([exp(-im*E*t) for E in evals])\n",
    "        new = prop * state\n",
    "        gvals[i] = abs(dot(state, new))^2\n",
    "    end\n",
    "    \n",
    "    lowest,idx = findmin(gvals)\n",
    "\n",
    "    println(\"Minimim probability ($lowest) at t = $(tvals[idx])\")\n",
    "    lines(tvals, gvals)\n",
    "end"
   ]
  },
  {
   "cell_type": "code",
   "execution_count": 12,
   "id": "2fa2d6b4",
   "metadata": {},
   "outputs": [
    {
     "name": "stdout",
     "output_type": "stream",
     "text": [
      "Minimim probability (2.563462939541844e-13) at t = 93129400\n"
     ]
    },
    {
     "data": {},
     "execution_count": 12,
     "metadata": {},
     "output_type": "execute_result"
    }
   ],
   "source": [
    "H = get_H(1) \n",
    "\n",
    "e,C = eigen(H)\n",
    "\n",
    "#e \n",
    "\n",
    "g = [C[1,1], C[1,2]]\n",
    "#g = adjoint(C)[:,2]\n",
    "#g = transpose(C)[:,2]\n",
    "\n",
    "propagate(g, e, 100000000, 100)"
   ]
  },
  {
   "cell_type": "code",
   "execution_count": 11,
   "id": "038074c7",
   "metadata": {},
   "outputs": [
    {
     "data": {},
     "execution_count": 11,
     "metadata": {},
     "output_type": "execute_result"
    }
   ],
   "source": [
    "lines(rand(3), rand(3))"
   ]
  },
  {
   "cell_type": "code",
   "execution_count": null,
   "id": "a3f63415",
   "metadata": {},
   "outputs": [],
   "source": []
  }
 ],
 "metadata": {
  "kernelspec": {
   "display_name": "Julia 1.7.2",
   "language": "julia",
   "name": "julia-1.7"
  },
  "language_info": {
   "file_extension": ".jl",
   "mimetype": "application/julia",
   "name": "julia",
   "version": "1.7.2"
  }
 },
 "nbformat": 4,
 "nbformat_minor": 5
}
